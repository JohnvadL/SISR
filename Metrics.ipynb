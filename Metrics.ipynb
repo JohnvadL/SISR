{
  "nbformat": 4,
  "nbformat_minor": 0,
  "metadata": {
    "colab": {
      "name": "Metrics.ipynb",
      "provenance": [],
      "collapsed_sections": []
    },
    "kernelspec": {
      "name": "python3",
      "display_name": "Python 3"
    },
    "language_info": {
      "name": "python"
    }
  },
  "cells": [
    {
      "cell_type": "code",
      "metadata": {
        "colab": {
          "base_uri": "https://localhost:8080/"
        },
        "id": "g_yEDtIMQCo5",
        "outputId": "9bef5a66-8186-46e6-9390-bea113ceb417"
      },
      "source": [
        "from google.colab import drive\n",
        "drive.mount('/content/drive')"
      ],
      "execution_count": 71,
      "outputs": [
        {
          "output_type": "stream",
          "text": [
            "Drive already mounted at /content/drive; to attempt to forcibly remount, call drive.mount(\"/content/drive\", force_remount=True).\n"
          ],
          "name": "stdout"
        }
      ]
    },
    {
      "cell_type": "code",
      "metadata": {
        "id": "BguL84roxBwZ"
      },
      "source": [
        "import numpy \n",
        "import math\n",
        "import cv2\n",
        "from os import walk\n",
        "import os \n",
        "import torch \n",
        "import torch \n",
        "import torchvision "
      ],
      "execution_count": 72,
      "outputs": []
    },
    {
      "cell_type": "code",
      "metadata": {
        "colab": {
          "base_uri": "https://localhost:8080/"
        },
        "id": "CExXq8Nywt4K",
        "outputId": "6a4c0998-2d94-40db-a115-6de4973f0a2f"
      },
      "source": [
        "class AlexNet_metric():\n",
        "  def __init__(self):\n",
        "      self.net = torchvision.models.alexnet(pretrained=True)\n",
        "      self.net.classifier = torch.nn.Sequential()\n",
        "      print(self.net)\n",
        "\n",
        "  def calculate(self, image):\n",
        "      return self.net(image)\n",
        "\n",
        "a = AlexNet_metric()\n",
        "\n",
        "print(a.net)"
      ],
      "execution_count": 87,
      "outputs": [
        {
          "output_type": "stream",
          "text": [
            "AlexNet(\n",
            "  (features): Sequential(\n",
            "    (0): Conv2d(3, 64, kernel_size=(11, 11), stride=(4, 4), padding=(2, 2))\n",
            "    (1): ReLU(inplace=True)\n",
            "    (2): MaxPool2d(kernel_size=3, stride=2, padding=0, dilation=1, ceil_mode=False)\n",
            "    (3): Conv2d(64, 192, kernel_size=(5, 5), stride=(1, 1), padding=(2, 2))\n",
            "    (4): ReLU(inplace=True)\n",
            "    (5): MaxPool2d(kernel_size=3, stride=2, padding=0, dilation=1, ceil_mode=False)\n",
            "    (6): Conv2d(192, 384, kernel_size=(3, 3), stride=(1, 1), padding=(1, 1))\n",
            "    (7): ReLU(inplace=True)\n",
            "    (8): Conv2d(384, 256, kernel_size=(3, 3), stride=(1, 1), padding=(1, 1))\n",
            "    (9): ReLU(inplace=True)\n",
            "    (10): Conv2d(256, 256, kernel_size=(3, 3), stride=(1, 1), padding=(1, 1))\n",
            "    (11): ReLU(inplace=True)\n",
            "    (12): MaxPool2d(kernel_size=3, stride=2, padding=0, dilation=1, ceil_mode=False)\n",
            "  )\n",
            "  (avgpool): AdaptiveAvgPool2d(output_size=(6, 6))\n",
            "  (classifier): Sequential()\n",
            ")\n",
            "AlexNet(\n",
            "  (features): Sequential(\n",
            "    (0): Conv2d(3, 64, kernel_size=(11, 11), stride=(4, 4), padding=(2, 2))\n",
            "    (1): ReLU(inplace=True)\n",
            "    (2): MaxPool2d(kernel_size=3, stride=2, padding=0, dilation=1, ceil_mode=False)\n",
            "    (3): Conv2d(64, 192, kernel_size=(5, 5), stride=(1, 1), padding=(2, 2))\n",
            "    (4): ReLU(inplace=True)\n",
            "    (5): MaxPool2d(kernel_size=3, stride=2, padding=0, dilation=1, ceil_mode=False)\n",
            "    (6): Conv2d(192, 384, kernel_size=(3, 3), stride=(1, 1), padding=(1, 1))\n",
            "    (7): ReLU(inplace=True)\n",
            "    (8): Conv2d(384, 256, kernel_size=(3, 3), stride=(1, 1), padding=(1, 1))\n",
            "    (9): ReLU(inplace=True)\n",
            "    (10): Conv2d(256, 256, kernel_size=(3, 3), stride=(1, 1), padding=(1, 1))\n",
            "    (11): ReLU(inplace=True)\n",
            "    (12): MaxPool2d(kernel_size=3, stride=2, padding=0, dilation=1, ceil_mode=False)\n",
            "  )\n",
            "  (avgpool): AdaptiveAvgPool2d(output_size=(6, 6))\n",
            "  (classifier): Sequential()\n",
            ")\n"
          ],
          "name": "stdout"
        }
      ]
    },
    {
      "cell_type": "code",
      "metadata": {
        "id": "tsBJsXJWO9Io",
        "colab": {
          "base_uri": "https://localhost:8080/"
        },
        "outputId": "edf19c3d-0986-4f5c-f275-07968bf1c105"
      },
      "source": [
        "use_cuda = torch.cuda.is_available()\n",
        "device = torch.device(\"cuda:0\" if use_cuda else \"cpu\")\n",
        "\n",
        "\n",
        "metric = AlexNet_metric()\n",
        "cosinesim = torch.nn.CosineSimilarity(dim=1)\n",
        "\n",
        "\n",
        "# CREDITS: Himanshu Tyagi @ Stack OVerflow \n",
        "\n",
        "def psnr(img1, img2):\n",
        "\n",
        "  if (img1.shape != img2.shape):\n",
        "    w,h, c = img1.shape\n",
        "    img2 = cv2.resize(img2, (h,w ))\n",
        "\n",
        "  mse = numpy.mean( (img1 - img2) ** 2 )\n",
        "  if mse == 0:\n",
        "    return 100\n",
        "  PIXEL_MAX = 255.0\n",
        "  return 20 * math.log10(PIXEL_MAX / math.sqrt(mse))\n",
        "\n",
        "\n",
        "def feature_diff(img1, img2 ):\n",
        "\n",
        "  transform = torchvision.transforms.ToTensor()\n",
        "  feat1 = metric.calculate(transform(img1).to(device).unsqueeze(0))\n",
        "  feat2 = metric.calculate(transform(img2).to(device).unsqueeze(0))\n",
        "  return cosinesim(feat1, feat2).item()\n",
        "\n",
        "\n",
        "\n",
        "%cd /content/drive/MyDrive/CSC413/set5\n",
        "_, _, filenames = next(walk(\".\"))\n",
        "\n",
        "filenames = [filename for filename in filenames if 'GAN' not in filename \n",
        "             and 'pred' not in filename \n",
        "             and 'Bicubic' not in filename\n",
        "             and 'cropped' not in filename]\n",
        "\n",
        "\n",
        "\n",
        "for name in filenames:\n",
        "  filename = os.path.splitext(name)[0]\n",
        "  GAN_path = filename + \"_GAN.png\"\n",
        "  MEM_path = \"pred_\" + filename + \".jpg\"\n",
        "  original = filename + \".png\"\n",
        "\n",
        "  GAN = cv2.imread(GAN_path)\n",
        "  MEM = cv2.imread(MEM_path)\n",
        "  original = cv2.imread(original)\n",
        "\n",
        "  PSNR_GAN = feature_diff(original, GAN)\n",
        "  PSNR_MEM = feature_diff(original, MEM)\n",
        "\n",
        "  print( filename + \" : GAN:\", end =\"\")\n",
        "  print(PSNR_GAN, end=\"\")\n",
        "  print(\": MEM:\", end=\"\")\n",
        "  print(PSNR_MEM)\n"
      ],
      "execution_count": 94,
      "outputs": [
        {
          "output_type": "stream",
          "text": [
            "AlexNet(\n",
            "  (features): Sequential(\n",
            "    (0): Conv2d(3, 64, kernel_size=(11, 11), stride=(4, 4), padding=(2, 2))\n",
            "    (1): ReLU(inplace=True)\n",
            "    (2): MaxPool2d(kernel_size=3, stride=2, padding=0, dilation=1, ceil_mode=False)\n",
            "    (3): Conv2d(64, 192, kernel_size=(5, 5), stride=(1, 1), padding=(2, 2))\n",
            "    (4): ReLU(inplace=True)\n",
            "    (5): MaxPool2d(kernel_size=3, stride=2, padding=0, dilation=1, ceil_mode=False)\n",
            "    (6): Conv2d(192, 384, kernel_size=(3, 3), stride=(1, 1), padding=(1, 1))\n",
            "    (7): ReLU(inplace=True)\n",
            "    (8): Conv2d(384, 256, kernel_size=(3, 3), stride=(1, 1), padding=(1, 1))\n",
            "    (9): ReLU(inplace=True)\n",
            "    (10): Conv2d(256, 256, kernel_size=(3, 3), stride=(1, 1), padding=(1, 1))\n",
            "    (11): ReLU(inplace=True)\n",
            "    (12): MaxPool2d(kernel_size=3, stride=2, padding=0, dilation=1, ceil_mode=False)\n",
            "  )\n",
            "  (avgpool): AdaptiveAvgPool2d(output_size=(6, 6))\n",
            "  (classifier): Sequential()\n",
            ")\n",
            "/content/drive/MyDrive/CSC413/set5\n",
            "bird : GAN:0.9489492774009705: MEM:0.9603338241577148\n",
            "butterfly : GAN:0.9337045550346375: MEM:0.9427788853645325\n",
            "baby : GAN:0.9415224194526672: MEM:0.9293209314346313\n",
            "woman : GAN:0.9290373921394348: MEM:0.9432953000068665\n",
            "head : GAN:0.9104651808738708: MEM:0.914703905582428\n"
          ],
          "name": "stdout"
        }
      ]
    }
  ]
}